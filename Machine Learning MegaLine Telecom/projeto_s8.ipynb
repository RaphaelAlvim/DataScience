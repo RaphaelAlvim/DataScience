{
 "cells": [
  {
   "cell_type": "markdown",
   "metadata": {},
   "source": [
    "<h2 style = 'color: orange'> S8  - Machine Learning - Megaline Telecom  </h2>"
   ]
  },
  {
   "cell_type": "code",
   "execution_count": 44,
   "metadata": {},
   "outputs": [],
   "source": [
    "import pandas as pd\n",
    "pd.set_option('display.max_columns', 500)\n",
    "import warnings\n",
    "warnings.filterwarnings('ignore')\n",
    "\n",
    "# ML\n",
    "from sklearn import set_config\n",
    "set_config(print_changed_only=False)\n",
    "\n",
    "from sklearn.metrics import accuracy_score\n",
    "from sklearn.model_selection import train_test_split\n",
    "from sklearn.metrics import mean_squared_error\n",
    "\n",
    "from sklearn.tree import DecisionTreeClassifier\n",
    "from sklearn.ensemble import RandomForestClassifier\n",
    "from sklearn.linear_model import LogisticRegression\n",
    "\n",
    "from sklearn.tree import DecisionTreeRegressor\n",
    "from sklearn.ensemble import RandomForestRegressor\n",
    "from sklearn.linear_model import LinearRegression"
   ]
  },
  {
   "cell_type": "markdown",
   "metadata": {},
   "source": [
    "<h3 style = 'color: orange'> Reading and Analysing Files:</h3>"
   ]
  },
  {
   "cell_type": "code",
   "execution_count": 45,
   "metadata": {},
   "outputs": [],
   "source": [
    "df = pd.read_csv('users_behavior.csv')"
   ]
  },
  {
   "cell_type": "code",
   "execution_count": 46,
   "metadata": {},
   "outputs": [
    {
     "data": {
      "text/html": [
       "<div>\n",
       "<style scoped>\n",
       "    .dataframe tbody tr th:only-of-type {\n",
       "        vertical-align: middle;\n",
       "    }\n",
       "\n",
       "    .dataframe tbody tr th {\n",
       "        vertical-align: top;\n",
       "    }\n",
       "\n",
       "    .dataframe thead th {\n",
       "        text-align: right;\n",
       "    }\n",
       "</style>\n",
       "<table border=\"1\" class=\"dataframe\">\n",
       "  <thead>\n",
       "    <tr style=\"text-align: right;\">\n",
       "      <th></th>\n",
       "      <th>calls</th>\n",
       "      <th>minutes</th>\n",
       "      <th>messages</th>\n",
       "      <th>mb_used</th>\n",
       "      <th>is_ultra</th>\n",
       "    </tr>\n",
       "  </thead>\n",
       "  <tbody>\n",
       "    <tr>\n",
       "      <th>0</th>\n",
       "      <td>40.0</td>\n",
       "      <td>311.90</td>\n",
       "      <td>83.0</td>\n",
       "      <td>19915.42</td>\n",
       "      <td>0</td>\n",
       "    </tr>\n",
       "    <tr>\n",
       "      <th>1</th>\n",
       "      <td>85.0</td>\n",
       "      <td>516.75</td>\n",
       "      <td>56.0</td>\n",
       "      <td>22696.96</td>\n",
       "      <td>0</td>\n",
       "    </tr>\n",
       "    <tr>\n",
       "      <th>2</th>\n",
       "      <td>77.0</td>\n",
       "      <td>467.66</td>\n",
       "      <td>86.0</td>\n",
       "      <td>21060.45</td>\n",
       "      <td>0</td>\n",
       "    </tr>\n",
       "    <tr>\n",
       "      <th>3</th>\n",
       "      <td>106.0</td>\n",
       "      <td>745.53</td>\n",
       "      <td>81.0</td>\n",
       "      <td>8437.39</td>\n",
       "      <td>1</td>\n",
       "    </tr>\n",
       "    <tr>\n",
       "      <th>4</th>\n",
       "      <td>66.0</td>\n",
       "      <td>418.74</td>\n",
       "      <td>1.0</td>\n",
       "      <td>14502.75</td>\n",
       "      <td>0</td>\n",
       "    </tr>\n",
       "  </tbody>\n",
       "</table>\n",
       "</div>"
      ],
      "text/plain": [
       "   calls  minutes  messages   mb_used  is_ultra\n",
       "0   40.0   311.90      83.0  19915.42         0\n",
       "1   85.0   516.75      56.0  22696.96         0\n",
       "2   77.0   467.66      86.0  21060.45         0\n",
       "3  106.0   745.53      81.0   8437.39         1\n",
       "4   66.0   418.74       1.0  14502.75         0"
      ]
     },
     "execution_count": 46,
     "metadata": {},
     "output_type": "execute_result"
    }
   ],
   "source": [
    "df.head()"
   ]
  },
  {
   "cell_type": "markdown",
   "metadata": {},
   "source": [
    "сalls — número de chamadas\n",
    "\n",
    "minutes — duração total da chamada em minutos\n",
    "\n",
    "messages — número de mensagens de texto\n",
    "\n",
    "mb_used — Tráfego de internet usado em MB\n",
    "\n",
    "is_ultra — plano para o mês atual (Ultra - 1, Smart - 0)"
   ]
  },
  {
   "cell_type": "code",
   "execution_count": 47,
   "metadata": {},
   "outputs": [
    {
     "name": "stdout",
     "output_type": "stream",
     "text": [
      "<class 'pandas.core.frame.DataFrame'>\n",
      "RangeIndex: 3214 entries, 0 to 3213\n",
      "Data columns (total 5 columns):\n",
      " #   Column    Non-Null Count  Dtype  \n",
      "---  ------    --------------  -----  \n",
      " 0   calls     3214 non-null   float64\n",
      " 1   minutes   3214 non-null   float64\n",
      " 2   messages  3214 non-null   float64\n",
      " 3   mb_used   3214 non-null   float64\n",
      " 4   is_ultra  3214 non-null   int64  \n",
      "dtypes: float64(4), int64(1)\n",
      "memory usage: 125.7 KB\n"
     ]
    }
   ],
   "source": [
    "df.info()"
   ]
  },
  {
   "cell_type": "code",
   "execution_count": 48,
   "metadata": {},
   "outputs": [
    {
     "data": {
      "text/plain": [
       "0"
      ]
     },
     "execution_count": 48,
     "metadata": {},
     "output_type": "execute_result"
    }
   ],
   "source": [
    "df.duplicated().sum()"
   ]
  },
  {
   "cell_type": "markdown",
   "metadata": {},
   "source": [
    "<h3 style = 'color: orange'> Machine Learning (testing models):</h3>"
   ]
  },
  {
   "cell_type": "code",
   "execution_count": 49,
   "metadata": {},
   "outputs": [],
   "source": [
    "# Dividindo os dados de origem em um conjunto de treinamento, um conjunto de validação e um conjunto de teste:\n",
    "\n",
    "df_train, df_valid_test = train_test_split(df, test_size=0.4, random_state=54321)\n",
    "\n",
    "df_valid, df_test = train_test_split(df_valid_test, test_size=0.5, random_state=54321)"
   ]
  },
  {
   "cell_type": "code",
   "execution_count": 50,
   "metadata": {},
   "outputs": [
    {
     "data": {
      "text/html": [
       "<div>\n",
       "<style scoped>\n",
       "    .dataframe tbody tr th:only-of-type {\n",
       "        vertical-align: middle;\n",
       "    }\n",
       "\n",
       "    .dataframe tbody tr th {\n",
       "        vertical-align: top;\n",
       "    }\n",
       "\n",
       "    .dataframe thead th {\n",
       "        text-align: right;\n",
       "    }\n",
       "</style>\n",
       "<table border=\"1\" class=\"dataframe\">\n",
       "  <thead>\n",
       "    <tr style=\"text-align: right;\">\n",
       "      <th></th>\n",
       "      <th>calls</th>\n",
       "      <th>minutes</th>\n",
       "      <th>messages</th>\n",
       "      <th>mb_used</th>\n",
       "      <th>is_ultra</th>\n",
       "    </tr>\n",
       "  </thead>\n",
       "  <tbody>\n",
       "    <tr>\n",
       "      <th>0</th>\n",
       "      <td>40.0</td>\n",
       "      <td>311.90</td>\n",
       "      <td>83.0</td>\n",
       "      <td>19915.42</td>\n",
       "      <td>0</td>\n",
       "    </tr>\n",
       "    <tr>\n",
       "      <th>1</th>\n",
       "      <td>85.0</td>\n",
       "      <td>516.75</td>\n",
       "      <td>56.0</td>\n",
       "      <td>22696.96</td>\n",
       "      <td>0</td>\n",
       "    </tr>\n",
       "    <tr>\n",
       "      <th>2</th>\n",
       "      <td>77.0</td>\n",
       "      <td>467.66</td>\n",
       "      <td>86.0</td>\n",
       "      <td>21060.45</td>\n",
       "      <td>0</td>\n",
       "    </tr>\n",
       "    <tr>\n",
       "      <th>3</th>\n",
       "      <td>106.0</td>\n",
       "      <td>745.53</td>\n",
       "      <td>81.0</td>\n",
       "      <td>8437.39</td>\n",
       "      <td>1</td>\n",
       "    </tr>\n",
       "    <tr>\n",
       "      <th>4</th>\n",
       "      <td>66.0</td>\n",
       "      <td>418.74</td>\n",
       "      <td>1.0</td>\n",
       "      <td>14502.75</td>\n",
       "      <td>0</td>\n",
       "    </tr>\n",
       "  </tbody>\n",
       "</table>\n",
       "</div>"
      ],
      "text/plain": [
       "   calls  minutes  messages   mb_used  is_ultra\n",
       "0   40.0   311.90      83.0  19915.42         0\n",
       "1   85.0   516.75      56.0  22696.96         0\n",
       "2   77.0   467.66      86.0  21060.45         0\n",
       "3  106.0   745.53      81.0   8437.39         1\n",
       "4   66.0   418.74       1.0  14502.75         0"
      ]
     },
     "execution_count": 50,
     "metadata": {},
     "output_type": "execute_result"
    }
   ],
   "source": [
    "df.head()"
   ]
  },
  {
   "cell_type": "code",
   "execution_count": 51,
   "metadata": {},
   "outputs": [],
   "source": [
    "# declarando variáveis para 'features' e 'target':\n",
    "\n",
    "train_features = df_train.drop('is_ultra', axis=1)\n",
    "train_target = df_train['is_ultra']\n",
    "\n",
    "valid_features = df_valid.drop('is_ultra', axis=1)\n",
    "valid_target = df_valid['is_ultra']\n",
    "\n",
    "test_features = df_test.drop('is_ultra', axis=1)\n",
    "test_target = df_test['is_ultra']"
   ]
  },
  {
   "cell_type": "markdown",
   "metadata": {},
   "source": [
    "<h3 style = 'color: orange'> Decision Tree Classifier:</h3>"
   ]
  },
  {
   "cell_type": "code",
   "execution_count": 52,
   "metadata": {},
   "outputs": [
    {
     "name": "stdout",
     "output_type": "stream",
     "text": [
      "Melhor configuração:{'criterion': 'gini', 'min_samples_split': 2, 'min_samples_leaf': 1, 'max_depth': 10}\n",
      "Acurácia da melhor configuração: 0.7822706065318819\n"
     ]
    }
   ],
   "source": [
    "# Definindo os valores a serem testados para cada hiperparâmetro:\n",
    "criteria = ['gini', 'entropy']\n",
    "min_samples_splits = [2, 3, 4, 5]\n",
    "min_samples_leafs = [1, 2, 3, 4, 5]\n",
    "max_depths = range(1, 16)\n",
    "\n",
    "best_accuracy = 0\n",
    "best_config = {}\n",
    "\n",
    "for criterion in criteria:\n",
    "    for min_samples_split in min_samples_splits:\n",
    "        for min_samples_leaf in min_samples_leafs:\n",
    "            for depth in max_depths:\n",
    "                model = DecisionTreeClassifier(random_state=54321, criterion=criterion, \n",
    "                                               min_samples_split=min_samples_split, \n",
    "                                               min_samples_leaf=min_samples_leaf, \n",
    "                                               max_depth=depth)\n",
    "                model.fit(train_features, train_target)\n",
    "                \n",
    "                valid_predictions = model.predict(valid_features)\n",
    "\n",
    "                accuracy = accuracy_score(valid_target, valid_predictions)\n",
    "\n",
    "                if accuracy > best_accuracy:\n",
    "                    best_accuracy = accuracy\n",
    "                    best_config = {'criterion': criterion, \n",
    "                                   'min_samples_split': min_samples_split, \n",
    "                                   'min_samples_leaf': min_samples_leaf, \n",
    "                                   'max_depth': depth}\n",
    "\n",
    "print(\"Melhor configuração:\",end='')\n",
    "print(best_config)\n",
    "print(\"Acurácia da melhor configuração:\", best_accuracy)"
   ]
  },
  {
   "cell_type": "markdown",
   "metadata": {},
   "source": [
    "Usando o modelo 'Decision Tree' verifiquei que a configuração ideal para os hiperparâmetros (criterion, min_samples_split, min_samples_leaf e max_depth) é:\n",
    "\n",
    "criterion= gini ;\n",
    "min_samples_split' 2 ;\n",
    "min_samples_leaf= 1 ;\n",
    "max_depth= 10.\n",
    "\n",
    "Essa configuração apresentou uma acurácia de aproximadamente 78%."
   ]
  },
  {
   "cell_type": "markdown",
   "metadata": {},
   "source": [
    "<h3 style = 'color: orange'> Random Forest Classifier:</h3>"
   ]
  },
  {
   "cell_type": "code",
   "execution_count": 53,
   "metadata": {},
   "outputs": [
    {
     "name": "stdout",
     "output_type": "stream",
     "text": [
      "Melhor configuração: {'bootstrap': True, 'criterion': 'entropy', 'max_depth': 15, 'max_features': 'sqrt', 'min_samples_leaf': 1, 'min_samples_split': 15, 'n_estimators': 60}\n",
      "Acurácia da melhor configuração: 0.7869362363919129\n"
     ]
    }
   ],
   "source": [
    "# Utilizando o Grid Search para otimizar a busca por hiperparâmetros:\n",
    "\n",
    "from sklearn.model_selection import GridSearchCV\n",
    "\n",
    "param_grid = {\n",
    "    'n_estimators': [10, 30, 60], \n",
    "    'criterion': ['gini', 'entropy'],  \n",
    "    'max_depth': [None, 5, 15],  \n",
    "    'min_samples_split': [2, 10, 15],  \n",
    "    'min_samples_leaf': [1, 2, 4],  \n",
    "    'max_features': ['auto', 'sqrt', 'log2'],  \n",
    "    'bootstrap': [True, False]  \n",
    "}\n",
    "\n",
    "model = RandomForestClassifier(random_state=54321)\n",
    "\n",
    "grid_search = GridSearchCV(estimator=model, param_grid=param_grid, cv=5, scoring='accuracy', n_jobs=-1)\n",
    "\n",
    "grid_search.fit(train_features, train_target)\n",
    "\n",
    "best_params = grid_search.best_params_\n",
    "\n",
    "best_model = RandomForestClassifier(random_state=54321, **best_params)\n",
    "\n",
    "best_model.fit(train_features, train_target)\n",
    "\n",
    "accuracy = best_model.score(valid_features, valid_target)\n",
    "\n",
    "print(\"Melhor configuração:\", best_params)\n",
    "print(\"Acurácia da melhor configuração:\", accuracy)"
   ]
  },
  {
   "cell_type": "markdown",
   "metadata": {},
   "source": [
    "Usando o modelo 'Random Forest Classifier' verifiquei que a configuração ideal para os hipermarâmetros (n_estimators, criterion, max_depth, min_samples_split, min_samples_leaf, max_features, bootstrap) é:\n",
    "\n",
    "bootstrap = True ;\n",
    "criterion = entropy ;\n",
    "max_depth = 15 ;\n",
    "max_features= sqrt ;\n",
    "min_samples_leaf = 1 ;\n",
    "min_samples_split = 15 ;\n",
    "n_estimators = 60.\n",
    "\n",
    "Essa configuração apresentou uma acurácia de aproximadamente 79%.\n"
   ]
  },
  {
   "cell_type": "markdown",
   "metadata": {},
   "source": [
    "<h3 style = 'color: orange'> Logistic Regression:</h3>"
   ]
  },
  {
   "cell_type": "code",
   "execution_count": 54,
   "metadata": {},
   "outputs": [
    {
     "name": "stdout",
     "output_type": "stream",
     "text": [
      "Acurácia do modelo de regressão logística no conjunto de treinamento: 0.7131742738589212\n",
      "Acurácia do modelo de regressão logística no conjunto de validação: 0.6780715396578538\n"
     ]
    }
   ],
   "source": [
    "# Testando o modelo de \"Logistic Regression\" :\n",
    "\n",
    "model = LogisticRegression(random_state=54321, solver='liblinear')\n",
    "model.fit(train_features, train_target )\n",
    "score_train = model.score(train_features, train_target)\n",
    "score_valid = model.score(valid_features, valid_target)\n",
    "\n",
    "print(\"Acurácia do modelo de regressão logística no conjunto de treinamento:\", score_train)\n",
    "print(\"Acurácia do modelo de regressão logística no conjunto de validação:\", score_valid)\n"
   ]
  },
  {
   "cell_type": "markdown",
   "metadata": {},
   "source": [
    "O modelo de 'Logistic Regression' apresenta acurácia inferior (aprox. 68%) aos modelos testados anteriormente."
   ]
  },
  {
   "cell_type": "markdown",
   "metadata": {},
   "source": [
    "<h3 style = 'color: orange'> Machine Learning (chosen model):</h3>"
   ]
  },
  {
   "cell_type": "markdown",
   "metadata": {},
   "source": [
    "Com uma acurácia tão parecida entre os modelos de Árevore de Regressão e Floresta Aleatória, poderia escolher a utilização da Árvore Aleatória pela velocidade de execução. Porém vou optar pela Floresta Aleatória pela ligeira vantagem nos resultados e tradição em acurácia. \n",
    "\n",
    "\"Alta acurácia significa alta receita.\""
   ]
  },
  {
   "cell_type": "code",
   "execution_count": 55,
   "metadata": {},
   "outputs": [
    {
     "name": "stdout",
     "output_type": "stream",
     "text": [
      "A acurácia do modelo com o cojunto de dados de teste é: 0.8180404354587869.\n"
     ]
    }
   ],
   "source": [
    "# Usando os dados de teste no modelo escolhido:\n",
    "\n",
    "model = RandomForestClassifier(\n",
    "    random_state=54321, bootstrap= True, \n",
    "    criterion= 'entropy', \n",
    "    max_depth= 15, \n",
    "    max_features= 'sqrt', \n",
    "    min_samples_leaf= 1, \n",
    "    min_samples_split= 15, \n",
    "    n_estimators= 60\n",
    "    )\n",
    "\n",
    "model.fit(train_features, train_target)\n",
    "test_score = model.score(test_features, test_target)\n",
    "\n",
    "print(f'A acurácia do modelo com o cojunto de dados de teste é: {test_score}.')\n"
   ]
  },
  {
   "cell_type": "markdown",
   "metadata": {},
   "source": [
    "O modelo escolhido apresentou um resultado ainda melhor com o conjunto de teste, aproximadamente 82%. A acurácio ficou acima dos 75% propostos e assim o resultado foi alcançado."
   ]
  }
 ],
 "metadata": {
  "kernelspec": {
   "display_name": "Python 3",
   "language": "python",
   "name": "python3"
  },
  "language_info": {
   "codemirror_mode": {
    "name": "ipython",
    "version": 3
   },
   "file_extension": ".py",
   "mimetype": "text/x-python",
   "name": "python",
   "nbconvert_exporter": "python",
   "pygments_lexer": "ipython3",
   "version": "3.12.1"
  }
 },
 "nbformat": 4,
 "nbformat_minor": 2
}
