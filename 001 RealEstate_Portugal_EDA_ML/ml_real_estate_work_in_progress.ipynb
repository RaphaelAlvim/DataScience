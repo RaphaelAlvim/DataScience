{
 "cells": [
  {
   "cell_type": "markdown",
   "metadata": {},
   "source": [
    "<h2 style = 'color: orange'> ML - Real Estate - Portugal: </h2>"
   ]
  },
  {
   "cell_type": "code",
   "execution_count": 6,
   "metadata": {},
   "outputs": [],
   "source": [
    "import pandas as pd\n",
    "pd.set_option('display.max_columns', 500)\n",
    "import numpy as np\n",
    "from scipy import stats as st\n",
    "import warnings\n",
    "warnings.filterwarnings('ignore')\n",
    "\n",
    "from sklearn.linear_model import LinearRegression\n",
    "from sklearn.ensemble import RandomForestRegressor\n",
    "from catboost import CatBoostRegressor\n",
    "from sklearn.model_selection import train_test_split\n",
    "from sklearn.metrics import mean_squared_error\n",
    "from sklearn.model_selection import GridSearchCV\n",
    "\n",
    "import matplotlib.pyplot as plt\n",
    "import seaborn as sns\n",
    "import textwrap\n",
    "sns.set_theme(style=\"whitegrid\")"
   ]
  },
  {
   "cell_type": "markdown",
   "metadata": {},
   "source": [
    "<h3 style = 'color: orange'> Reading files:</h3>"
   ]
  },
  {
   "cell_type": "code",
   "execution_count": 7,
   "metadata": {},
   "outputs": [
    {
     "data": {
      "text/html": [
       "<div>\n",
       "<style scoped>\n",
       "    .dataframe tbody tr th:only-of-type {\n",
       "        vertical-align: middle;\n",
       "    }\n",
       "\n",
       "    .dataframe tbody tr th {\n",
       "        vertical-align: top;\n",
       "    }\n",
       "\n",
       "    .dataframe thead th {\n",
       "        text-align: right;\n",
       "    }\n",
       "</style>\n",
       "<table border=\"1\" class=\"dataframe\">\n",
       "  <thead>\n",
       "    <tr style=\"text-align: right;\">\n",
       "      <th></th>\n",
       "      <th>location</th>\n",
       "      <th>rooms</th>\n",
       "      <th>price</th>\n",
       "      <th>area</th>\n",
       "      <th>bathrooms</th>\n",
       "      <th>condition</th>\n",
       "      <th>ads_type</th>\n",
       "      <th>propriety_type</th>\n",
       "      <th>m2_price</th>\n",
       "    </tr>\n",
       "  </thead>\n",
       "  <tbody>\n",
       "    <tr>\n",
       "      <th>0</th>\n",
       "      <td>Cedofeita, Santo Ildefonso, Sé, Miragaia, São ...</td>\n",
       "      <td>4</td>\n",
       "      <td>390030.0</td>\n",
       "      <td>171.00</td>\n",
       "      <td>3</td>\n",
       "      <td>Unknown</td>\n",
       "      <td>Sell</td>\n",
       "      <td>House</td>\n",
       "      <td>2280.88</td>\n",
       "    </tr>\n",
       "    <tr>\n",
       "      <th>1</th>\n",
       "      <td>Lordelo do Ouro e Massarelos, Porto</td>\n",
       "      <td>2</td>\n",
       "      <td>975000.0</td>\n",
       "      <td>160.40</td>\n",
       "      <td>2</td>\n",
       "      <td>Unknown</td>\n",
       "      <td>Sell</td>\n",
       "      <td>House</td>\n",
       "      <td>6078.55</td>\n",
       "    </tr>\n",
       "    <tr>\n",
       "      <th>2</th>\n",
       "      <td>Lordelo do Ouro e Massarelos, Porto</td>\n",
       "      <td>5</td>\n",
       "      <td>325000.0</td>\n",
       "      <td>180.00</td>\n",
       "      <td>3</td>\n",
       "      <td>Unknown</td>\n",
       "      <td>Sell</td>\n",
       "      <td>House</td>\n",
       "      <td>1805.56</td>\n",
       "    </tr>\n",
       "    <tr>\n",
       "      <th>3</th>\n",
       "      <td>Ramalde, Porto</td>\n",
       "      <td>4</td>\n",
       "      <td>1420000.0</td>\n",
       "      <td>271.00</td>\n",
       "      <td>3</td>\n",
       "      <td>Unknown</td>\n",
       "      <td>Sell</td>\n",
       "      <td>House</td>\n",
       "      <td>5239.85</td>\n",
       "    </tr>\n",
       "    <tr>\n",
       "      <th>4</th>\n",
       "      <td>Cedofeita, Santo Ildefonso, Sé, Miragaia, São ...</td>\n",
       "      <td>1</td>\n",
       "      <td>253450.0</td>\n",
       "      <td>62.00</td>\n",
       "      <td>2</td>\n",
       "      <td>Unknown</td>\n",
       "      <td>Sell</td>\n",
       "      <td>House</td>\n",
       "      <td>4087.90</td>\n",
       "    </tr>\n",
       "    <tr>\n",
       "      <th>...</th>\n",
       "      <td>...</td>\n",
       "      <td>...</td>\n",
       "      <td>...</td>\n",
       "      <td>...</td>\n",
       "      <td>...</td>\n",
       "      <td>...</td>\n",
       "      <td>...</td>\n",
       "      <td>...</td>\n",
       "      <td>...</td>\n",
       "    </tr>\n",
       "    <tr>\n",
       "      <th>1053</th>\n",
       "      <td>Aldoar, Foz do Douro e Nevogilde, Porto</td>\n",
       "      <td>5</td>\n",
       "      <td>760000.0</td>\n",
       "      <td>236.00</td>\n",
       "      <td>3</td>\n",
       "      <td>Unknown</td>\n",
       "      <td>Sell</td>\n",
       "      <td>House</td>\n",
       "      <td>3220.34</td>\n",
       "    </tr>\n",
       "    <tr>\n",
       "      <th>1054</th>\n",
       "      <td>Aldoar, Foz do Douro e Nevogilde, Porto</td>\n",
       "      <td>4</td>\n",
       "      <td>1750000.0</td>\n",
       "      <td>214.80</td>\n",
       "      <td>3</td>\n",
       "      <td>Unknown</td>\n",
       "      <td>Sell</td>\n",
       "      <td>House</td>\n",
       "      <td>8147.11</td>\n",
       "    </tr>\n",
       "    <tr>\n",
       "      <th>1055</th>\n",
       "      <td>Campanhã, Porto</td>\n",
       "      <td>1</td>\n",
       "      <td>159000.0</td>\n",
       "      <td>60.00</td>\n",
       "      <td>2</td>\n",
       "      <td>New</td>\n",
       "      <td>Sell</td>\n",
       "      <td>House</td>\n",
       "      <td>2650.00</td>\n",
       "    </tr>\n",
       "    <tr>\n",
       "      <th>1056</th>\n",
       "      <td>Lordelo do Ouro e Massarelos, Porto</td>\n",
       "      <td>4</td>\n",
       "      <td>1350000.0</td>\n",
       "      <td>142.47</td>\n",
       "      <td>3</td>\n",
       "      <td>Unknown</td>\n",
       "      <td>Sell</td>\n",
       "      <td>House</td>\n",
       "      <td>9475.68</td>\n",
       "    </tr>\n",
       "    <tr>\n",
       "      <th>1057</th>\n",
       "      <td>Paranhos, Porto</td>\n",
       "      <td>4</td>\n",
       "      <td>589900.0</td>\n",
       "      <td>256.00</td>\n",
       "      <td>3</td>\n",
       "      <td>Unknown</td>\n",
       "      <td>Sell</td>\n",
       "      <td>House</td>\n",
       "      <td>2304.30</td>\n",
       "    </tr>\n",
       "  </tbody>\n",
       "</table>\n",
       "<p>1058 rows × 9 columns</p>\n",
       "</div>"
      ],
      "text/plain": [
       "                                               location  rooms      price  \\\n",
       "0     Cedofeita, Santo Ildefonso, Sé, Miragaia, São ...      4   390030.0   \n",
       "1                   Lordelo do Ouro e Massarelos, Porto      2   975000.0   \n",
       "2                   Lordelo do Ouro e Massarelos, Porto      5   325000.0   \n",
       "3                                        Ramalde, Porto      4  1420000.0   \n",
       "4     Cedofeita, Santo Ildefonso, Sé, Miragaia, São ...      1   253450.0   \n",
       "...                                                 ...    ...        ...   \n",
       "1053            Aldoar, Foz do Douro e Nevogilde, Porto      5   760000.0   \n",
       "1054            Aldoar, Foz do Douro e Nevogilde, Porto      4  1750000.0   \n",
       "1055                                    Campanhã, Porto      1   159000.0   \n",
       "1056                Lordelo do Ouro e Massarelos, Porto      4  1350000.0   \n",
       "1057                                    Paranhos, Porto      4   589900.0   \n",
       "\n",
       "        area  bathrooms condition ads_type propriety_type  m2_price  \n",
       "0     171.00          3   Unknown     Sell          House   2280.88  \n",
       "1     160.40          2   Unknown     Sell          House   6078.55  \n",
       "2     180.00          3   Unknown     Sell          House   1805.56  \n",
       "3     271.00          3   Unknown     Sell          House   5239.85  \n",
       "4      62.00          2   Unknown     Sell          House   4087.90  \n",
       "...      ...        ...       ...      ...            ...       ...  \n",
       "1053  236.00          3   Unknown     Sell          House   3220.34  \n",
       "1054  214.80          3   Unknown     Sell          House   8147.11  \n",
       "1055   60.00          2       New     Sell          House   2650.00  \n",
       "1056  142.47          3   Unknown     Sell          House   9475.68  \n",
       "1057  256.00          3   Unknown     Sell          House   2304.30  \n",
       "\n",
       "[1058 rows x 9 columns]"
      ]
     },
     "execution_count": 7,
     "metadata": {},
     "output_type": "execute_result"
    }
   ],
   "source": [
    "df = pd.read_csv('porto_sell_1to6_bedrooms.csv')\n",
    "df"
   ]
  },
  {
   "cell_type": "markdown",
   "metadata": {},
   "source": [
    "<h3 style = 'color: orange'> Data preprocessing:</h3>"
   ]
  },
  {
   "cell_type": "code",
   "execution_count": 8,
   "metadata": {},
   "outputs": [],
   "source": [
    "df = df.drop('ads_type', axis= 1)"
   ]
  },
  {
   "cell_type": "code",
   "execution_count": 9,
   "metadata": {},
   "outputs": [],
   "source": [
    "# Using pandas.get_dummies for one-hot encoding:\n",
    "\n",
    "df_encoded = pd.get_dummies(df, columns=['location', 'condition', 'propriety_type'])"
   ]
  },
  {
   "cell_type": "markdown",
   "metadata": {},
   "source": [
    "<h3 style = 'color: orange'> Modeling:</h3>"
   ]
  },
  {
   "cell_type": "code",
   "execution_count": 10,
   "metadata": {},
   "outputs": [],
   "source": [
    "# Splitting the data into training (80%), validation (10%) and testing (10%) sets:\n",
    "\n",
    "df_encoded_train, df_encoded_valid_test = train_test_split(df_encoded, test_size=0.2, random_state=54321)\n",
    "\n",
    "df_encoded_valid, df_encoded_test = train_test_split(df_encoded_valid_test, test_size=0.5, random_state=54321)"
   ]
  },
  {
   "cell_type": "code",
   "execution_count": 11,
   "metadata": {},
   "outputs": [],
   "source": [
    "# Declaring variables for 'features' and 'target':\n",
    "\n",
    "train_features = df_encoded_train.drop(['price', 'm2_price'], axis=1)\n",
    "train_target = df_encoded_train['price']\n",
    "\n",
    "valid_features = df_encoded_valid.drop(['price', 'm2_price'], axis=1)\n",
    "valid_target = df_encoded_valid['price']\n",
    "\n",
    "test_features = df_encoded_test.drop(['price', 'm2_price'], axis=1)\n",
    "test_target = df_encoded_test['price']"
   ]
  },
  {
   "cell_type": "markdown",
   "metadata": {},
   "source": [
    "<h4 style = 'color: orange'>Linear Regression:</h4>"
   ]
  },
  {
   "cell_type": "code",
   "execution_count": 12,
   "metadata": {},
   "outputs": [
    {
     "name": "stdout",
     "output_type": "stream",
     "text": [
      "Best Parameters: {'fit_intercept': True}\n",
      "RMSE: 240661.1869035604\n"
     ]
    }
   ],
   "source": [
    "param_grid = {\n",
    "    'fit_intercept': [True, False],       \n",
    "}\n",
    "\n",
    "model = LinearRegression()\n",
    "\n",
    "grid_search = GridSearchCV(estimator=model, param_grid=param_grid, cv=5, scoring='neg_mean_squared_error', n_jobs=-1)\n",
    "\n",
    "grid_search.fit(train_features, train_target)\n",
    "\n",
    "best_params = grid_search.best_params_\n",
    "print(\"Best Parameters:\", best_params)\n",
    "\n",
    "predictions_valid = grid_search.predict(valid_features)\n",
    "mse_valid = mean_squared_error(valid_target, predictions_valid)\n",
    "print(\"RMSE:\", np.sqrt(mse_valid))"
   ]
  },
  {
   "cell_type": "markdown",
   "metadata": {},
   "source": [
    "<h4 style = 'color: orange'>Random Forest Regressor with Grid Search CV:</h4>"
   ]
  },
  {
   "cell_type": "code",
   "execution_count": 16,
   "metadata": {},
   "outputs": [
    {
     "name": "stdout",
     "output_type": "stream",
     "text": [
      "Best Hyperparameters: {'max_depth': 10, 'min_samples_leaf': 4, 'min_samples_split': 2, 'n_estimators': 50}\n",
      "RMSE: 208606.06987772472\n"
     ]
    }
   ],
   "source": [
    "# Defining hyperparameters:\n",
    "\n",
    "param_grid = {\n",
    "    'n_estimators': [50, 150, 300],  \n",
    "    'max_depth': [10, 20, 30],  \n",
    "    'min_samples_split': [2, 5, 10],  \n",
    "    'min_samples_leaf': [1, 2, 4],  \n",
    "}\n",
    "\n",
    "model = RandomForestRegressor(random_state=54321)\n",
    "\n",
    "grid_search = GridSearchCV(estimator=model, param_grid=param_grid, cv=5, scoring='neg_mean_squared_error', n_jobs=-1)\n",
    "\n",
    "grid_search.fit(train_features, train_target)\n",
    "\n",
    "best_params = grid_search.best_params_\n",
    "print(\"Best Hyperparameters:\", best_params)\n",
    "\n",
    "best_model = RandomForestRegressor(**best_params, random_state=54321)\n",
    "best_model.fit(train_features, train_target)\n",
    "\n",
    "predictions_valid = best_model.predict(valid_features)\n",
    "\n",
    "mse_valid = mean_squared_error(valid_target, predictions_valid)\n",
    "print(\"RMSE:\", np.sqrt(mse_valid))"
   ]
  },
  {
   "cell_type": "markdown",
   "metadata": {},
   "source": [
    "<h4 style = 'color: orange'>CatBoost with Grid Search CV:</h4>"
   ]
  },
  {
   "cell_type": "code",
   "execution_count": 17,
   "metadata": {},
   "outputs": [
    {
     "name": "stdout",
     "output_type": "stream",
     "text": [
      "Best Hyperparameters: {'colsample_bylevel': 0.8, 'depth': 5, 'learning_rate': 0.2, 'min_data_in_leaf': 10, 'n_estimators': 50, 'subsample': 0.9}\n",
      "RMSE: 214956.93559536233\n"
     ]
    }
   ],
   "source": [
    "param_grid = {\n",
    "    'n_estimators': [50, 100, 150],              \n",
    "    'learning_rate': [0.01, 0.1, 0.2],           \n",
    "    'depth': [5, 10, 15],                       \n",
    "    'subsample': [0.8, 0.9, 1.0],               \n",
    "    'min_data_in_leaf': [10, 20],              \n",
    "    'colsample_bylevel': [0.8, 1.0]            \n",
    "}\n",
    "\n",
    "model = CatBoostRegressor(random_state=12345, silent=True)\n",
    "\n",
    "grid_search = GridSearchCV(estimator=model, param_grid=param_grid, cv=5, scoring='neg_mean_squared_error', n_jobs=-1)\n",
    "\n",
    "grid_search.fit(train_features, train_target)\n",
    "\n",
    "best_params = grid_search.best_params_\n",
    "print(\"Best Hyperparameters:\", best_params)\n",
    "\n",
    "best_model = grid_search.best_estimator_\n",
    "\n",
    "predictions_valid = best_model.predict(valid_features)\n",
    "mse_valid = mean_squared_error(valid_target, predictions_valid)\n",
    "print(\"RMSE:\", np.sqrt(mse_valid))"
   ]
  },
  {
   "cell_type": "code",
   "execution_count": 18,
   "metadata": {},
   "outputs": [
    {
     "name": "stdout",
     "output_type": "stream",
     "text": [
      "RMSE: 228124.5969108978\n"
     ]
    }
   ],
   "source": [
    "# Using test data in the model:\n",
    "\n",
    "# Best Hyperparameters: {'max_depth': 10, 'min_samples_leaf': 4, 'min_samples_split': 2, 'n_estimators': 50}\n",
    "# RMSE: 208606.06987772472\n",
    "\n",
    "test_model = RandomForestRegressor(random_state=54321, max_depth=10, min_samples_leaf=4, min_samples_split=2, n_estimators=50)\n",
    "\n",
    "test_model.fit(train_features, train_target)\n",
    "\n",
    "predictions_test = test_model.predict(test_features)\n",
    "\n",
    "mse_test = mean_squared_error(test_target, predictions_test)\n",
    "print(\"RMSE:\", np.sqrt(mse_test))"
   ]
  },
  {
   "cell_type": "code",
   "execution_count": 19,
   "metadata": {},
   "outputs": [
    {
     "data": {
      "text/html": [
       "<div>\n",
       "<style scoped>\n",
       "    .dataframe tbody tr th:only-of-type {\n",
       "        vertical-align: middle;\n",
       "    }\n",
       "\n",
       "    .dataframe tbody tr th {\n",
       "        vertical-align: top;\n",
       "    }\n",
       "\n",
       "    .dataframe thead th {\n",
       "        text-align: right;\n",
       "    }\n",
       "</style>\n",
       "<table border=\"1\" class=\"dataframe\">\n",
       "  <thead>\n",
       "    <tr style=\"text-align: right;\">\n",
       "      <th></th>\n",
       "      <th>predicted</th>\n",
       "      <th>real_price</th>\n",
       "      <th>percentage_difference</th>\n",
       "    </tr>\n",
       "  </thead>\n",
       "  <tbody>\n",
       "    <tr>\n",
       "      <th>532</th>\n",
       "      <td>310060.92</td>\n",
       "      <td>495000.0</td>\n",
       "      <td>37.36</td>\n",
       "    </tr>\n",
       "    <tr>\n",
       "      <th>731</th>\n",
       "      <td>801690.08</td>\n",
       "      <td>820000.0</td>\n",
       "      <td>2.23</td>\n",
       "    </tr>\n",
       "    <tr>\n",
       "      <th>1005</th>\n",
       "      <td>774738.87</td>\n",
       "      <td>600000.0</td>\n",
       "      <td>29.12</td>\n",
       "    </tr>\n",
       "    <tr>\n",
       "      <th>947</th>\n",
       "      <td>143522.76</td>\n",
       "      <td>139000.0</td>\n",
       "      <td>3.25</td>\n",
       "    </tr>\n",
       "    <tr>\n",
       "      <th>988</th>\n",
       "      <td>336666.54</td>\n",
       "      <td>550000.0</td>\n",
       "      <td>38.79</td>\n",
       "    </tr>\n",
       "    <tr>\n",
       "      <th>...</th>\n",
       "      <td>...</td>\n",
       "      <td>...</td>\n",
       "      <td>...</td>\n",
       "    </tr>\n",
       "    <tr>\n",
       "      <th>75</th>\n",
       "      <td>1089701.61</td>\n",
       "      <td>1475000.0</td>\n",
       "      <td>26.12</td>\n",
       "    </tr>\n",
       "    <tr>\n",
       "      <th>74</th>\n",
       "      <td>930601.13</td>\n",
       "      <td>1395000.0</td>\n",
       "      <td>33.29</td>\n",
       "    </tr>\n",
       "    <tr>\n",
       "      <th>971</th>\n",
       "      <td>1119124.06</td>\n",
       "      <td>1000000.0</td>\n",
       "      <td>11.91</td>\n",
       "    </tr>\n",
       "    <tr>\n",
       "      <th>606</th>\n",
       "      <td>1396199.97</td>\n",
       "      <td>1250000.0</td>\n",
       "      <td>11.70</td>\n",
       "    </tr>\n",
       "    <tr>\n",
       "      <th>479</th>\n",
       "      <td>670079.89</td>\n",
       "      <td>998500.0</td>\n",
       "      <td>32.89</td>\n",
       "    </tr>\n",
       "  </tbody>\n",
       "</table>\n",
       "<p>106 rows × 3 columns</p>\n",
       "</div>"
      ],
      "text/plain": [
       "       predicted  real_price  percentage_difference\n",
       "532    310060.92    495000.0                  37.36\n",
       "731    801690.08    820000.0                   2.23\n",
       "1005   774738.87    600000.0                  29.12\n",
       "947    143522.76    139000.0                   3.25\n",
       "988    336666.54    550000.0                  38.79\n",
       "...          ...         ...                    ...\n",
       "75    1089701.61   1475000.0                  26.12\n",
       "74     930601.13   1395000.0                  33.29\n",
       "971   1119124.06   1000000.0                  11.91\n",
       "606   1396199.97   1250000.0                  11.70\n",
       "479    670079.89    998500.0                  32.89\n",
       "\n",
       "[106 rows x 3 columns]"
      ]
     },
     "execution_count": 19,
     "metadata": {},
     "output_type": "execute_result"
    }
   ],
   "source": [
    "# DataFrame with the difference between the real price and the one predicted by the model:\n",
    "\n",
    "test_df = pd.DataFrame({'predicted': predictions_test, 'real_price': test_target})\n",
    "\n",
    "test_df['percentage_difference'] = np.sqrt((((test_df['predicted'] - test_df['real_price']) / test_df['real_price']) * 100)**2)\n",
    "\n",
    "test_df.round(2)"
   ]
  },
  {
   "cell_type": "code",
   "execution_count": 20,
   "metadata": {},
   "outputs": [
    {
     "data": {
      "text/plain": [
       "count    106.000000\n",
       "mean      30.050329\n",
       "std       44.644219\n",
       "min        0.022268\n",
       "25%        5.210362\n",
       "50%       15.366266\n",
       "75%       37.150286\n",
       "max      302.336107\n",
       "Name: percentage_difference, dtype: float64"
      ]
     },
     "execution_count": 20,
     "metadata": {},
     "output_type": "execute_result"
    }
   ],
   "source": [
    "test_df['percentage_difference'].describe()"
   ]
  },
  {
   "cell_type": "code",
   "execution_count": 21,
   "metadata": {},
   "outputs": [
    {
     "name": "stdout",
     "output_type": "stream",
     "text": [
      "0.80    47.428912\n",
      "0.85    50.269208\n",
      "0.90    67.931354\n",
      "0.95    86.623559\n",
      "Name: percentage_difference, dtype: float64\n"
     ]
    }
   ],
   "source": [
    "print(test_df['percentage_difference'].quantile([0.8, 0.85, 0.9, 0.95]))"
   ]
  },
  {
   "cell_type": "code",
   "execution_count": 22,
   "metadata": {},
   "outputs": [
    {
     "data": {
      "image/png": "[encoded data removed]",
      "text/plain": [
       "<Figure size 2000x800 with 1 Axes>"
      ]
     },
     "metadata": {},
     "output_type": "display_data"
    }
   ],
   "source": [
    "# Prediction and data values difference graph:\n",
    "\n",
    "fig, (ax1) = plt.subplots(1, figsize=(20, 8));\n",
    "\n",
    "sns.barplot(hue = 'percentage_difference',\n",
    "             y = 'percentage_difference',\n",
    "             data = test_df, ax = ax1);\n",
    "\n",
    "ax1.set_title(\"Prediction and Data Values Difference (Test Set)\", fontsize=25, pad=20);\n",
    "ax1.set_xlabel(\"Rows\");\n",
    "ax1.set_ylabel(\"Difference in Percentage\");\n",
    "labels = [textwrap.fill(label.get_text(), width=30) for label in ax1.get_xticklabels()];\n",
    "ax1.set_xticklabels(labels, rotation=90);"
   ]
  },
  {
   "cell_type": "markdown",
   "metadata": {},
   "source": [
    "The model presents an average difference of less than 4% compared to the real data values.\n",
    "\n",
    "At the 85th percentile, the difference is 5.9%. I consider it a good performance, considering that there are many properties with their asking price inconsistent with the real market value."
   ]
  }
 ],
 "metadata": {
  "kernelspec": {
   "display_name": "Python 3",
   "language": "python",
   "name": "python3"
  },
  "language_info": {
   "codemirror_mode": {
    "name": "ipython",
    "version": 3
   },
   "file_extension": ".py",
   "mimetype": "text/x-python",
   "name": "python",
   "nbconvert_exporter": "python",
   "pygments_lexer": "ipython3",
   "version": "3.12.1"
  }
 },
 "nbformat": 4,
 "nbformat_minor": 2
}
