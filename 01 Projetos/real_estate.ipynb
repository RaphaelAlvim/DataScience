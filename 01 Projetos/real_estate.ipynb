{
 "cells": [
  {
   "cell_type": "markdown",
   "metadata": {},
   "source": [
    "<h4 style = 'color: orange'> Real Estate Portugal Index </h4>"
   ]
  },
  {
   "cell_type": "code",
   "execution_count": 169,
   "metadata": {},
   "outputs": [],
   "source": [
    "import pandas as pd\n",
    "\n",
    "df = pd.read_csv('portugal_ads_proprieties.csv')"
   ]
  },
  {
   "cell_type": "code",
   "execution_count": 170,
   "metadata": {},
   "outputs": [
    {
     "data": {
      "text/html": [
       "<div>\n",
       "<style scoped>\n",
       "    .dataframe tbody tr th:only-of-type {\n",
       "        vertical-align: middle;\n",
       "    }\n",
       "\n",
       "    .dataframe tbody tr th {\n",
       "        vertical-align: top;\n",
       "    }\n",
       "\n",
       "    .dataframe thead th {\n",
       "        text-align: right;\n",
       "    }\n",
       "</style>\n",
       "<table border=\"1\" class=\"dataframe\">\n",
       "  <thead>\n",
       "    <tr style=\"text-align: right;\">\n",
       "      <th></th>\n",
       "      <th>Location</th>\n",
       "      <th>Rooms</th>\n",
       "      <th>Price</th>\n",
       "      <th>Area</th>\n",
       "      <th>Bathrooms</th>\n",
       "      <th>Condition</th>\n",
       "      <th>AdsType</th>\n",
       "      <th>ProprietyType</th>\n",
       "    </tr>\n",
       "  </thead>\n",
       "  <tbody>\n",
       "    <tr>\n",
       "      <th>0</th>\n",
       "      <td>Cortegaça, Ovar, Aveiro</td>\n",
       "      <td>4</td>\n",
       "      <td>2000.0</td>\n",
       "      <td>147.0</td>\n",
       "      <td>4.0</td>\n",
       "      <td>Used</td>\n",
       "      <td>Rent</td>\n",
       "      <td>House</td>\n",
       "    </tr>\n",
       "    <tr>\n",
       "      <th>1</th>\n",
       "      <td>Mozelos, Santa Maria da Feira, Aveiro</td>\n",
       "      <td>2</td>\n",
       "      <td>5000.0</td>\n",
       "      <td>300.0</td>\n",
       "      <td>1.0</td>\n",
       "      <td>NaN</td>\n",
       "      <td>Rent</td>\n",
       "      <td>House</td>\n",
       "    </tr>\n",
       "    <tr>\n",
       "      <th>2</th>\n",
       "      <td>Santa Maria da Feira, Travanca, Sanfins e Esp...</td>\n",
       "      <td>4</td>\n",
       "      <td>1200.0</td>\n",
       "      <td>134.0</td>\n",
       "      <td>2.0</td>\n",
       "      <td>Used</td>\n",
       "      <td>Rent</td>\n",
       "      <td>House</td>\n",
       "    </tr>\n",
       "    <tr>\n",
       "      <th>3</th>\n",
       "      <td>Macinhata do Vouga, Águeda, Aveiro</td>\n",
       "      <td>4</td>\n",
       "      <td>2500.0</td>\n",
       "      <td>236.0</td>\n",
       "      <td>2.0</td>\n",
       "      <td>Renovated</td>\n",
       "      <td>Rent</td>\n",
       "      <td>House</td>\n",
       "    </tr>\n",
       "    <tr>\n",
       "      <th>4</th>\n",
       "      <td>Oiã, Oliveira do Bairro, Aveiro</td>\n",
       "      <td>4</td>\n",
       "      <td>1200.0</td>\n",
       "      <td>240.0</td>\n",
       "      <td>NaN</td>\n",
       "      <td>NaN</td>\n",
       "      <td>Rent</td>\n",
       "      <td>House</td>\n",
       "    </tr>\n",
       "    <tr>\n",
       "      <th>5</th>\n",
       "      <td>Aradas, Aveiro</td>\n",
       "      <td>3</td>\n",
       "      <td>1250.0</td>\n",
       "      <td>200.0</td>\n",
       "      <td>3.0</td>\n",
       "      <td>NaN</td>\n",
       "      <td>Rent</td>\n",
       "      <td>House</td>\n",
       "    </tr>\n",
       "    <tr>\n",
       "      <th>6</th>\n",
       "      <td>Aradas, Aveiro</td>\n",
       "      <td>4</td>\n",
       "      <td>1250.0</td>\n",
       "      <td>82.0</td>\n",
       "      <td>2.0</td>\n",
       "      <td>Renovated</td>\n",
       "      <td>Rent</td>\n",
       "      <td>House</td>\n",
       "    </tr>\n",
       "    <tr>\n",
       "      <th>7</th>\n",
       "      <td>Calvão, Vagos, Aveiro</td>\n",
       "      <td>4</td>\n",
       "      <td>1500.0</td>\n",
       "      <td>320.0</td>\n",
       "      <td>3.0</td>\n",
       "      <td>New</td>\n",
       "      <td>Rent</td>\n",
       "      <td>House</td>\n",
       "    </tr>\n",
       "    <tr>\n",
       "      <th>8</th>\n",
       "      <td>Santa Maria da Feira, Travanca, Sanfins e Esp...</td>\n",
       "      <td>2</td>\n",
       "      <td>700.0</td>\n",
       "      <td>110.0</td>\n",
       "      <td>2.0</td>\n",
       "      <td>Renovated</td>\n",
       "      <td>Rent</td>\n",
       "      <td>House</td>\n",
       "    </tr>\n",
       "    <tr>\n",
       "      <th>9</th>\n",
       "      <td>Lourosa, Santa Maria da Feira, Aveiro</td>\n",
       "      <td>3</td>\n",
       "      <td>740.0</td>\n",
       "      <td>140.0</td>\n",
       "      <td>2.0</td>\n",
       "      <td>Renovated</td>\n",
       "      <td>Rent</td>\n",
       "      <td>House</td>\n",
       "    </tr>\n",
       "  </tbody>\n",
       "</table>\n",
       "</div>"
      ],
      "text/plain": [
       "                                            Location Rooms   Price   Area  \\\n",
       "0                            Cortegaça, Ovar, Aveiro     4  2000.0  147.0   \n",
       "1              Mozelos, Santa Maria da Feira, Aveiro     2  5000.0  300.0   \n",
       "2   Santa Maria da Feira, Travanca, Sanfins e Esp...     4  1200.0  134.0   \n",
       "3                 Macinhata do Vouga, Águeda, Aveiro     4  2500.0  236.0   \n",
       "4                    Oiã, Oliveira do Bairro, Aveiro     4  1200.0  240.0   \n",
       "5                                     Aradas, Aveiro     3  1250.0  200.0   \n",
       "6                                     Aradas, Aveiro     4  1250.0   82.0   \n",
       "7                              Calvão, Vagos, Aveiro     4  1500.0  320.0   \n",
       "8   Santa Maria da Feira, Travanca, Sanfins e Esp...     2   700.0  110.0   \n",
       "9              Lourosa, Santa Maria da Feira, Aveiro     3   740.0  140.0   \n",
       "\n",
       "   Bathrooms  Condition AdsType ProprietyType  \n",
       "0        4.0       Used    Rent         House  \n",
       "1        1.0        NaN    Rent         House  \n",
       "2        2.0       Used    Rent         House  \n",
       "3        2.0  Renovated    Rent         House  \n",
       "4        NaN        NaN    Rent         House  \n",
       "5        3.0        NaN    Rent         House  \n",
       "6        2.0  Renovated    Rent         House  \n",
       "7        3.0        New    Rent         House  \n",
       "8        2.0  Renovated    Rent         House  \n",
       "9        2.0  Renovated    Rent         House  "
      ]
     },
     "execution_count": 170,
     "metadata": {},
     "output_type": "execute_result"
    }
   ],
   "source": [
    "df.head(10)"
   ]
  },
  {
   "cell_type": "code",
   "execution_count": 171,
   "metadata": {},
   "outputs": [
    {
     "name": "stdout",
     "output_type": "stream",
     "text": [
      "<class 'pandas.core.frame.DataFrame'>\n",
      "RangeIndex: 62658 entries, 0 to 62657\n",
      "Data columns (total 8 columns):\n",
      " #   Column         Non-Null Count  Dtype  \n",
      "---  ------         --------------  -----  \n",
      " 0   Location       62658 non-null  object \n",
      " 1   Rooms          62658 non-null  object \n",
      " 2   Price          61488 non-null  float64\n",
      " 3   Area           62658 non-null  float64\n",
      " 4   Bathrooms      50146 non-null  float64\n",
      " 5   Condition      37533 non-null  object \n",
      " 6   AdsType        62658 non-null  object \n",
      " 7   ProprietyType  62658 non-null  object \n",
      "dtypes: float64(3), object(5)\n",
      "memory usage: 3.8+ MB\n"
     ]
    }
   ],
   "source": [
    "df.info()"
   ]
  },
  {
   "cell_type": "code",
   "execution_count": 172,
   "metadata": {},
   "outputs": [
    {
     "data": {
      "text/plain": [
       "Index(['Location', 'Rooms', 'Price', 'Area', 'Bathrooms', 'Condition',\n",
       "       'AdsType', 'ProprietyType'],\n",
       "      dtype='object')"
      ]
     },
     "execution_count": 172,
     "metadata": {},
     "output_type": "execute_result"
    }
   ],
   "source": [
    "df.columns"
   ]
  },
  {
   "cell_type": "code",
   "execution_count": 173,
   "metadata": {},
   "outputs": [],
   "source": [
    "new_columns_name = []\n",
    "\n",
    "for old_names in df.columns:\n",
    "    name_lowered = old_names.lower()\n",
    "    new_columns_name.append(name_lowered)\n",
    "\n",
    "df.columns = new_columns_name"
   ]
  },
  {
   "cell_type": "code",
   "execution_count": 174,
   "metadata": {},
   "outputs": [
    {
     "data": {
      "text/plain": [
       "Index(['location', 'rooms', 'price', 'area', 'bathrooms', 'condition',\n",
       "       'ads_type', 'propriety_type'],\n",
       "      dtype='object')"
      ]
     },
     "execution_count": 174,
     "metadata": {},
     "output_type": "execute_result"
    }
   ],
   "source": [
    "new_columns_snake = {\n",
    "    'adstype' : 'ads_type',\n",
    "    'proprietytype' : 'propriety_type'    \n",
    "}\n",
    "\n",
    "df.rename(columns = new_columns_snake, inplace= True)\n",
    "\n",
    "df.columns"
   ]
  },
  {
   "cell_type": "code",
   "execution_count": 175,
   "metadata": {},
   "outputs": [
    {
     "data": {
      "text/plain": [
       "location              0\n",
       "rooms                 0\n",
       "price              1170\n",
       "area                  0\n",
       "bathrooms         12512\n",
       "condition         25125\n",
       "ads_type              0\n",
       "propriety_type        0\n",
       "dtype: int64"
      ]
     },
     "execution_count": 175,
     "metadata": {},
     "output_type": "execute_result"
    }
   ],
   "source": [
    "df.isna().sum()"
   ]
  },
  {
   "cell_type": "code",
   "execution_count": 176,
   "metadata": {},
   "outputs": [],
   "source": [
    "df = df.dropna(subset=['price'])"
   ]
  },
  {
   "cell_type": "code",
   "execution_count": 177,
   "metadata": {},
   "outputs": [
    {
     "data": {
      "text/plain": [
       "location              0\n",
       "rooms                 0\n",
       "price                 0\n",
       "area                  0\n",
       "bathrooms         12282\n",
       "condition         24665\n",
       "ads_type              0\n",
       "propriety_type        0\n",
       "dtype: int64"
      ]
     },
     "execution_count": 177,
     "metadata": {},
     "output_type": "execute_result"
    }
   ],
   "source": [
    "df.isna().sum()"
   ]
  },
  {
   "cell_type": "code",
   "execution_count": 178,
   "metadata": {},
   "outputs": [
    {
     "name": "stderr",
     "output_type": "stream",
     "text": [
      "C:\\Users\\Raphael\\AppData\\Local\\Temp\\ipykernel_38524\\1896506339.py:4: FutureWarning: A value is trying to be set on a copy of a DataFrame or Series through chained assignment using an inplace method.\n",
      "The behavior will change in pandas 3.0. This inplace method will never work because the intermediate object on which we are setting values always behaves as a copy.\n",
      "\n",
      "For example, when doing 'df[col].method(value, inplace=True)', try using 'df.method({col: value}, inplace=True)' or df[col] = df[col].method(value) instead, to perform the operation inplace on the original object.\n",
      "\n",
      "\n",
      "  df[col].fillna('unknown', inplace= True)\n"
     ]
    }
   ],
   "source": [
    "columns_to_replace = ['condition']\n",
    "\n",
    "for col in columns_to_replace:\n",
    "    df[col].fillna('unknown', inplace= True)"
   ]
  },
  {
   "cell_type": "code",
   "execution_count": 179,
   "metadata": {},
   "outputs": [
    {
     "data": {
      "text/plain": [
       "location              0\n",
       "rooms                 0\n",
       "price                 0\n",
       "area                  0\n",
       "bathrooms         12282\n",
       "condition             0\n",
       "ads_type              0\n",
       "propriety_type        0\n",
       "dtype: int64"
      ]
     },
     "execution_count": 179,
     "metadata": {},
     "output_type": "execute_result"
    }
   ],
   "source": [
    "df.isna().sum()\n"
   ]
  },
  {
   "cell_type": "code",
   "execution_count": 180,
   "metadata": {},
   "outputs": [
    {
     "name": "stderr",
     "output_type": "stream",
     "text": [
      "C:\\Users\\Raphael\\AppData\\Local\\Temp\\ipykernel_38524\\847191296.py:4: FutureWarning: A value is trying to be set on a copy of a DataFrame or Series through chained assignment using an inplace method.\n",
      "The behavior will change in pandas 3.0. This inplace method will never work because the intermediate object on which we are setting values always behaves as a copy.\n",
      "\n",
      "For example, when doing 'df[col].method(value, inplace=True)', try using 'df.method({col: value}, inplace=True)' or df[col] = df[col].method(value) instead, to perform the operation inplace on the original object.\n",
      "\n",
      "\n",
      "  df[col].fillna(1, inplace= True)\n"
     ]
    }
   ],
   "source": [
    "columns_to_replace_2 = ['bathrooms']\n",
    "\n",
    "for col in columns_to_replace_2:\n",
    "    df[col].fillna(1, inplace= True)"
   ]
  },
  {
   "cell_type": "code",
   "execution_count": 181,
   "metadata": {},
   "outputs": [
    {
     "data": {
      "text/plain": [
       "location          0\n",
       "rooms             0\n",
       "price             0\n",
       "area              0\n",
       "bathrooms         0\n",
       "condition         0\n",
       "ads_type          0\n",
       "propriety_type    0\n",
       "dtype: int64"
      ]
     },
     "execution_count": 181,
     "metadata": {},
     "output_type": "execute_result"
    }
   ],
   "source": [
    "df.isna().sum()"
   ]
  },
  {
   "cell_type": "code",
   "execution_count": 182,
   "metadata": {},
   "outputs": [
    {
     "data": {
      "text/plain": [
       "5397"
      ]
     },
     "execution_count": 182,
     "metadata": {},
     "output_type": "execute_result"
    }
   ],
   "source": [
    "df.duplicated().sum()"
   ]
  },
  {
   "cell_type": "code",
   "execution_count": 183,
   "metadata": {},
   "outputs": [],
   "source": [
    "df = df.drop_duplicates()"
   ]
  },
  {
   "cell_type": "code",
   "execution_count": 184,
   "metadata": {},
   "outputs": [
    {
     "data": {
      "text/plain": [
       "0"
      ]
     },
     "execution_count": 184,
     "metadata": {},
     "output_type": "execute_result"
    }
   ],
   "source": [
    "df.duplicated().sum()"
   ]
  },
  {
   "cell_type": "code",
   "execution_count": 185,
   "metadata": {},
   "outputs": [
    {
     "name": "stdout",
     "output_type": "stream",
     "text": [
      "<class 'pandas.core.frame.DataFrame'>\n",
      "Index: 56091 entries, 0 to 62654\n",
      "Data columns (total 8 columns):\n",
      " #   Column          Non-Null Count  Dtype  \n",
      "---  ------          --------------  -----  \n",
      " 0   location        56091 non-null  object \n",
      " 1   rooms           56091 non-null  object \n",
      " 2   price           56091 non-null  float64\n",
      " 3   area            56091 non-null  float64\n",
      " 4   bathrooms       56091 non-null  float64\n",
      " 5   condition       56091 non-null  object \n",
      " 6   ads_type        56091 non-null  object \n",
      " 7   propriety_type  56091 non-null  object \n",
      "dtypes: float64(3), object(5)\n",
      "memory usage: 3.9+ MB\n"
     ]
    }
   ],
   "source": [
    "df.info()"
   ]
  },
  {
   "cell_type": "markdown",
   "metadata": {},
   "source": [
    "<h5 style = 'color: orange'> Area mean values </h5>"
   ]
  },
  {
   "cell_type": "code",
   "execution_count": 186,
   "metadata": {},
   "outputs": [],
   "source": [
    "def price_m2 (freguesia, operacao):\n",
    "    df_price_m2 = df.query(f\"(location == '{freguesia}') & (ads_type == '{operacao}')\")\n",
    "    area_sum = df_price_m2['area'].sum()\n",
    "    price_sum = df_price_m2['price'].sum()\n",
    "    mean_value = price_sum / area_sum\n",
    "    return mean_value\n",
    "\n"
   ]
  },
  {
   "cell_type": "code",
   "execution_count": 187,
   "metadata": {},
   "outputs": [
    {
     "data": {
      "text/plain": [
       "14.938063063063064"
      ]
     },
     "execution_count": 187,
     "metadata": {},
     "output_type": "execute_result"
    }
   ],
   "source": [
    "price_m2(' Aldoar, Foz do Douro e Nevogilde, Porto', 'Rent')"
   ]
  },
  {
   "cell_type": "code",
   "execution_count": 188,
   "metadata": {},
   "outputs": [
    {
     "data": {
      "text/plain": [
       "3022.7165003784617"
      ]
     },
     "execution_count": 188,
     "metadata": {},
     "output_type": "execute_result"
    }
   ],
   "source": [
    "price_m2(' Aldoar, Foz do Douro e Nevogilde, Porto', 'Sell')"
   ]
  }
 ],
 "metadata": {
  "kernelspec": {
   "display_name": "Python 3",
   "language": "python",
   "name": "python3"
  },
  "language_info": {
   "codemirror_mode": {
    "name": "ipython",
    "version": 3
   },
   "file_extension": ".py",
   "mimetype": "text/x-python",
   "name": "python",
   "nbconvert_exporter": "python",
   "pygments_lexer": "ipython3",
   "version": "3.12.1"
  }
 },
 "nbformat": 4,
 "nbformat_minor": 2
}
